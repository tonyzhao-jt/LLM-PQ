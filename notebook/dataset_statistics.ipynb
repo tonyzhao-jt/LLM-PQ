{
 "cells": [
  {
   "cell_type": "code",
   "execution_count": 1,
   "id": "6fda0dbc-553d-4b9e-ad1f-3ce6ac046ab9",
   "metadata": {},
   "outputs": [],
   "source": [
    "json_file_name = \"sg_90k_part1.json\""
   ]
  },
  {
   "cell_type": "code",
   "execution_count": 2,
   "id": "c4a0f6c0-f853-4dfc-a873-776291f78c28",
   "metadata": {},
   "outputs": [],
   "source": [
    "import json\n",
    "# Specify the filename of the JSON file\n",
    "json_file_name = \"sg_90k_part1.json\"\n",
    "\n",
    "# Load the JSON file\n",
    "with open(json_file_name, \"r\", encoding=\"utf-8\") as f:\n",
    "    data = json.load(f)\n"
   ]
  },
  {
   "cell_type": "code",
   "execution_count": 3,
   "id": "b80cb05d-8953-44ba-958e-736dd2909dee",
   "metadata": {},
   "outputs": [
    {
     "name": "stdout",
     "output_type": "stream",
     "text": [
      "10000\n"
     ]
    }
   ],
   "source": [
    "import random\n",
    "\n",
    "# Sample 5k items from the data list\n",
    "sampled_data = random.sample(data, k=10000)\n",
    "\n",
    "# Print the length of the sampled data\n",
    "print(len(sampled_data))"
   ]
  },
  {
   "cell_type": "code",
   "execution_count": 4,
   "id": "ca07e840-bd80-47c5-af50-f03612ed7cb2",
   "metadata": {},
   "outputs": [
    {
     "data": {
      "text/plain": [
       "{'id': 'jgxwmM2',\n",
       " 'conversations': [{'from': 'human',\n",
       "   'value': 'make me a chunking system for a Terraria-like game made in Godot using Tilemaps'},\n",
       "  {'from': 'gpt',\n",
       "   'value': '<div class=\"markdown prose w-full break-words dark:prose-invert light\"><p>To create a chunking system for a Terraria-like game made in Godot using Tilemaps, you could follow these steps:</p><ol><li>Divide the game world into chunks of a fixed size, such as 16x16 tiles.</li><li>Create a script that generates a Tilemap for each chunk and populates it with tiles based on the chunk\\'s coordinates and the game\\'s world generation algorithm.</li><li>Use the Tilemap\\'s \"get_used_rect()\" function to determine which chunks contain visible tiles, and only load and render those chunks.</li><li>When the player moves between chunks, unload the previous chunk and load the new one.</li></ol><p>Keep in mind that this is a high-level overview and more specific implementation details may be required.</p></div>'},\n",
       "  {'from': 'human', 'value': 'please implement it through code'},\n",
       "  {'from': 'gpt',\n",
       "   'value': '<div class=\"markdown prose w-full break-words dark:prose-invert light\"><p>I\\'m sorry, I cannot create code or run it. However, I can provide you with some sample code to help you implement a chunking system in Godot using Tilemaps.</p><p>Here is a sample script that generates and populates a Tilemap for a chunk, based on the chunk\\'s coordinates and a world generation algorithm:</p><pre><div class=\"bg-black mb-4 rounded-md\"><div class=\"flex items-center relative text-gray-200 bg-gray-800 px-4 py-2 text-xs font-sans\"><span class=\"\">python</span><button class=\"flex ml-auto gap-2\"><svg stroke=\"currentColor\" fill=\"none\" stroke-width=\"2\" viewBox=\"0 0 24 24\" stroke-linecap=\"round\" stroke-linejoin=\"round\" class=\"h-4 w-4\" height=\"1em\" width=\"1em\" xmlns=\"http://www.w3.org/2000/svg\" data-darkreader-inline-stroke=\"\" style=\"--darkreader-inline-stroke:currentColor;\"><path d=\"M16 4h2a2 2 0 0 1 2 2v14a2 2 0 0 1-2 2H6a2 2 0 0 1-2-2V6a2 2 0 0 1 2-2h2\"></path><rect x=\"8\" y=\"2\" width=\"8\" height=\"4\" rx=\"1\" ry=\"1\"></rect></svg>Copy code</button></div><div class=\"p-4 overflow-y-auto\"><code class=\"!whitespace-pre hljs language-python\"><span class=\"hljs-comment\"># In a class that inherits from Node</span>\\nvar tilemap\\nvar chunk_size = <span class=\"hljs-number\">16</span>\\n\\nfunc _ready():\\n    <span class=\"hljs-comment\"># Create the Tilemap</span>\\n    tilemap = TileMap.new()\\n    tilemap.set_size(chunk_size, chunk_size)\\n    add_child(tilemap)\\n    generate_chunk()\\n\\nfunc generate_chunk():\\n    <span class=\"hljs-keyword\">for</span> x <span class=\"hljs-keyword\">in</span> <span class=\"hljs-built_in\">range</span>(chunk_size):\\n        <span class=\"hljs-keyword\">for</span> y <span class=\"hljs-keyword\">in</span> <span class=\"hljs-built_in\">range</span>(chunk_size):\\n            <span class=\"hljs-comment\"># Determine the tile type based on the chunk\\'s coordinates and the world generation algorithm</span>\\n            tile_type = world_gen_algorithm(x, y, self.position.x, self.position.y)\\n            tilemap.set_cell(x, y, tile_type)\\n</code></div></div></pre><p>Then, you can use the Tilemap\\'s \"get_used_rect()\" function to determine which chunks contain visible tiles and only load and render those chunks.</p><pre><div class=\"bg-black mb-4 rounded-md\"><div class=\"flex items-center relative text-gray-200 bg-gray-800 px-4 py-2 text-xs font-sans\"><span class=\"\">python</span><button class=\"flex ml-auto gap-2\"><svg stroke=\"currentColor\" fill=\"none\" stroke-width=\"2\" viewBox=\"0 0 24 24\" stroke-linecap=\"round\" stroke-linejoin=\"round\" class=\"h-4 w-4\" height=\"1em\" width=\"1em\" xmlns=\"http://www.w3.org/2000/svg\" data-darkreader-inline-stroke=\"\" style=\"--darkreader-inline-stroke:currentColor;\"><path d=\"M16 4h2a2 2 0 0 1 2 2v14a2 2 0 0 1-2 2H6a2 2 0 0 1-2-2V6a2 2 0 0 1 2-2h2\"></path><rect x=\"8\" y=\"2\" width=\"8\" height=\"4\" rx=\"1\" ry=\"1\"></rect></svg>Copy code</button></div><div class=\"p-4 overflow-y-auto\"><code class=\"!whitespace-pre hljs language-python\"><span class=\"hljs-comment\"># in a script that control the whole game</span>\\nvar chunk_list = []\\n\\nfunc _process(delta):\\n    <span class=\"hljs-keyword\">for</span> chunk <span class=\"hljs-keyword\">in</span> chunk_list:\\n        <span class=\"hljs-keyword\">if</span> chunk.tilemap.get_used_rect().size.x &gt; <span class=\"hljs-number\">0</span>:\\n            chunk.tilemap.set_visible(true)\\n        <span class=\"hljs-keyword\">else</span>:\\n            chunk.tilemap.set_visible(false)\\n</code></div></div></pre><p>You can also</p></div>'},\n",
       "  {'from': 'human',\n",
       "   'value': 'Can you make it using only one tilemap instead of multiple ones?'},\n",
       "  {'from': 'gpt',\n",
       "   'value': '<div class=\"markdown prose w-full break-words dark:prose-invert light\"><p>Yes, it is possible to use only one Tilemap to implement a chunking system. Instead of generating a new Tilemap for each chunk, you can use a single Tilemap and offset the tiles based on the chunk\\'s coordinates.</p><p>Here\\'s an example script that demonstrates how to generate and populate a single Tilemap for all chunks:</p><pre><div class=\"bg-black mb-4 rounded-md\"><div class=\"flex items-center relative text-gray-200 bg-gray-800 px-4 py-2 text-xs font-sans\"><span class=\"\">python</span><button class=\"flex ml-auto gap-2\"><svg stroke=\"currentColor\" fill=\"none\" stroke-width=\"2\" viewBox=\"0 0 24 24\" stroke-linecap=\"round\" stroke-linejoin=\"round\" class=\"h-4 w-4\" height=\"1em\" width=\"1em\" xmlns=\"http://www.w3.org/2000/svg\" data-darkreader-inline-stroke=\"\" style=\"--darkreader-inline-stroke:currentColor;\"><path d=\"M16 4h2a2 2 0 0 1 2 2v14a2 2 0 0 1-2 2H6a2 2 0 0 1-2-2V6a2 2 0 0 1 2-2h2\"></path><rect x=\"8\" y=\"2\" width=\"8\" height=\"4\" rx=\"1\" ry=\"1\"></rect></svg>Copy code</button></div><div class=\"p-4 overflow-y-auto\"><code class=\"!whitespace-pre hljs language-python\">var tilemap\\nvar chunk_size = <span class=\"hljs-number\">16</span>\\nvar chunk_count = <span class=\"hljs-number\">10</span>\\n\\nfunc _ready():\\n    tilemap = TileMap.new()\\n    tilemap.set_size(chunk_size * chunk_count, chunk_size * chunk_count)\\n    add_child(tilemap)\\n    generate_chunks()\\n\\nfunc generate_chunks():\\n    <span class=\"hljs-keyword\">for</span> x <span class=\"hljs-keyword\">in</span> <span class=\"hljs-built_in\">range</span>(chunk_count):\\n        <span class=\"hljs-keyword\">for</span> y <span class=\"hljs-keyword\">in</span> <span class=\"hljs-built_in\">range</span>(chunk_count):\\n            <span class=\"hljs-keyword\">for</span> i <span class=\"hljs-keyword\">in</span> <span class=\"hljs-built_in\">range</span>(chunk_size):\\n                <span class=\"hljs-keyword\">for</span> j <span class=\"hljs-keyword\">in</span> <span class=\"hljs-built_in\">range</span>(chunk_size):\\n                    tile_type = world_gen_algorithm(i, j, x, y)\\n                    tilemap.set_cell(x * chunk_size + i, y * chunk_size + j, tile_type)\\n</code></div></div></pre><p>You can then use the \"get_used_rect()\" function to determine which chunks contain visible tiles and offset the Tilemap\\'s position to only render the visible chunks.</p><pre><div class=\"bg-black mb-4 rounded-md\"><div class=\"flex items-center relative text-gray-200 bg-gray-800 px-4 py-2 text-xs font-sans\"><span class=\"\">python</span><button class=\"flex ml-auto gap-2\"><svg stroke=\"currentColor\" fill=\"none\" stroke-width=\"2\" viewBox=\"0 0 24 24\" stroke-linecap=\"round\" stroke-linejoin=\"round\" class=\"h-4 w-4\" height=\"1em\" width=\"1em\" xmlns=\"http://www.w3.org/2000/svg\" data-darkreader-inline-stroke=\"\" style=\"--darkreader-inline-stroke:currentColor;\"><path d=\"M16 4h2a2 2 0 0 1 2 2v14a2 2 0 0 1-2 2H6a2 2 0 0 1-2-2V6a2 2 0 0 1 2-2h2\"></path><rect x=\"8\" y=\"2\" width=\"8\" height=\"4\" rx=\"1\" ry=\"1\"></rect></svg>Copy code</button></div><div class=\"p-4 overflow-y-auto\"><code class=\"!whitespace-pre hljs language-python\">func _process(delta):\\n    <span class=\"hljs-keyword\">for</span> x <span class=\"hljs-keyword\">in</span> <span class=\"hljs-built_in\">range</span>(chunk_count):\\n        <span class=\"hljs-keyword\">for</span> y <span class=\"hljs-keyword\">in</span> <span class=\"hljs-built_in\">range</span>(chunk_count):\\n            used_rect = tilemap.get_used_rect()\\n            <span class=\"hljs-keyword\">if</span> used_rect.size.x &gt; <span class=\"hljs-number\">0</span>:\\n                tilemap.set_offset(x*chunk_size*-<span class=\"hljs-number\">1</span>, y*chunk_size*-<span class=\"hljs-number\">1</span>)\\n                tilemap.set_visible(true)\\n            <span class=\"hljs-keyword\">else</span>:\\n                tilemap.set_visible(false)\\n</code></div></div></pre><p>Please note that you may need to make more adjustment to suit your exact use case and game design, this is just a sample code and you may need to adjust it to your needs</p></div>'},\n",
       "  {'from': 'human',\n",
       "   'value': \"I asked for one tilemap but you're still using multiple tilemaps\"},\n",
       "  {'from': 'gpt',\n",
       "   'value': '<div class=\"markdown prose w-full break-words dark:prose-invert light\"><p>I apologize for the confusion, you are correct that the previous sample code I provided still uses multiple Tilemaps.</p><p>Here is an example of how you can use a single Tilemap to implement a chunking system:</p><pre><div class=\"bg-black mb-4 rounded-md\"><div class=\"flex items-center relative text-gray-200 bg-gray-800 px-4 py-2 text-xs font-sans\"><span class=\"\">python</span><button class=\"flex ml-auto gap-2\"><svg stroke=\"currentColor\" fill=\"none\" stroke-width=\"2\" viewBox=\"0 0 24 24\" stroke-linecap=\"round\" stroke-linejoin=\"round\" class=\"h-4 w-4\" height=\"1em\" width=\"1em\" xmlns=\"http://www.w3.org/2000/svg\" data-darkreader-inline-stroke=\"\" style=\"--darkreader-inline-stroke:currentColor;\"><path d=\"M16 4h2a2 2 0 0 1 2 2v14a2 2 0 0 1-2 2H6a2 2 0 0 1-2-2V6a2 2 0 0 1 2-2h2\"></path><rect x=\"8\" y=\"2\" width=\"8\" height=\"4\" rx=\"1\" ry=\"1\"></rect></svg>Copy code</button></div><div class=\"p-4 overflow-y-auto\"><code class=\"!whitespace-pre hljs language-python\">var tilemap\\nvar chunk_size = <span class=\"hljs-number\">16</span>\\nvar chunks_count = <span class=\"hljs-number\">10</span>\\nvar chunk_tiles = []\\n\\nfunc _ready():\\n    tilemap = TileMap.new()\\n    tilemap.set_size(chunk_size * chunks_count, chunk_size * chunks_count)\\n    add_child(tilemap)\\n    <span class=\"hljs-keyword\">for</span> i <span class=\"hljs-keyword\">in</span> <span class=\"hljs-built_in\">range</span>(chunks_count * chunks_count):\\n        chunk_tiles.append(world_gen_algorithm(i))\\n    tilemap.set_tiles(chunk_tiles)\\n\\nfunc _process(delta):\\n    var used_rect = tilemap.get_used_rect()\\n    var offset_x = used_rect.position.x\\n    var offset_y = used_rect.position.y\\n    <span class=\"hljs-keyword\">if</span> used_rect.size.x &gt; <span class=\"hljs-number\">0</span>:\\n        tilemap.set_offset(offset_x, offset_y)\\n        tilemap.set_visible(true)\\n    <span class=\"hljs-keyword\">else</span>:\\n        tilemap.set_visible(false)\\n</code></div></div></pre><p>In this example, the Tilemap is created with size of the chunks count multiplied by the chunk size, and the tiles are generated using the world generation algorithm for each chunk, and stored in an array. The offset of the tilemap is updated every frame to align with the visible chunks, and the tilemap is set to be visible only when there is any visible tiles.</p><p>Please keep in mind that this code is just an example, you will have to make adjustments according to your specific requirements.</p></div>'},\n",
       "  {'from': 'human',\n",
       "   'value': \"You're still using multiple tilemaps. I need only one tiilemap where the tiles get individually culled\"},\n",
       "  {'from': 'gpt',\n",
       "   'value': '<div class=\"markdown prose w-full break-words dark:prose-invert light\"><p>I apologize for the confusion, you are correct that my previous examples still involve multiple tilemaps.</p><p>A way to use only one tilemap and individually cull the tiles is by using the \"set_cell_occluder()\" function which can be used to mark a cell as an occluder, and the \"set_cell_occluder_light()\" function which can be used to mark a cell as an occluder light.</p><p>Here is an example of how you can use a single Tilemap to implement a chunking system, and individually cull the tiles that are not visible.</p><pre><div class=\"bg-black mb-4 rounded-md\"><div class=\"flex items-center relative text-gray-200 bg-gray-800 px-4 py-2 text-xs font-sans\"><span class=\"\">python</span><button class=\"flex ml-auto gap-2\"><svg stroke=\"currentColor\" fill=\"none\" stroke-width=\"2\" viewBox=\"0 0 24 24\" stroke-linecap=\"round\" stroke-linejoin=\"round\" class=\"h-4 w-4\" height=\"1em\" width=\"1em\" xmlns=\"http://www.w3.org/2000/svg\" data-darkreader-inline-stroke=\"\" style=\"--darkreader-inline-stroke:currentColor;\"><path d=\"M16 4h2a2 2 0 0 1 2 2v14a2 2 0 0 1-2 2H6a2 2 0 0 1-2-2V6a2 2 0 0 1 2-2h2\"></path><rect x=\"8\" y=\"2\" width=\"8\" height=\"4\" rx=\"1\" ry=\"1\"></rect></svg>Copy code</button></div><div class=\"p-4 overflow-y-auto\"><code class=\"!whitespace-pre hljs language-python\">var tilemap\\nvar chunk_size = <span class=\"hljs-number\">16</span>\\n\\nfunc _ready():\\n    tilemap = TileMap.new()\\n    tilemap.set_size(chunk_size, chunk_size)\\n    add_child(tilemap)\\n    <span class=\"hljs-keyword\">for</span> x <span class=\"hljs-keyword\">in</span> <span class=\"hljs-built_in\">range</span>(chunk_size):\\n        <span class=\"hljs-keyword\">for</span> y <span class=\"hljs-keyword\">in</span> <span class=\"hljs-built_in\">range</span>(chunk_size):\\n            tile_type = world_gen_algorithm(x, y)\\n            tilemap.set_cell(x, y, tile_type)\\n            tilemap.set_cell_occluder(x, y, true)\\n\\nfunc _process(delta):\\n    <span class=\"hljs-keyword\">for</span> x <span class=\"hljs-keyword\">in</span> <span class=\"hljs-built_in\">range</span>(chunk_size):\\n        <span class=\"hljs-keyword\">for</span> y <span class=\"hljs-keyword\">in</span> <span class=\"hljs-built_in\">range</span>(chunk_size):\\n            <span class=\"hljs-keyword\">if</span> is_tile_visible(x, y) == false:\\n                tilemap.set_cell_occluder_light(x, y, true)\\n            <span class=\"hljs-keyword\">else</span>:\\n                tilemap.set_cell_occluder_light(x, y, false)\\n</code></div></div></pre><p>In this example, the Tilemap is created with size of the chunks count multiplied by the chunk size, and the tiles are generated using the world generation algorithm for each chunk. The function \"is_tile_visible\" is used to check if the tile is visible or not, and if the tile is not visible, we set the cell occluder light to true, thus the tile will be culled.</p><p>Please note that this is just an example code and you may need to adjust it to match your specific requirements. Also, the \"is_tile_visible\" function is not provided here and you will have to create it according to your game design.</p></div>'},\n",
       "  {'from': 'human',\n",
       "   'value': 'Reading this documentation (https://docs.godotengine.org/en/latest/), create a chunking system that uses only one tilemap for Godot 4'},\n",
       "  {'from': 'gpt',\n",
       "   'value': '<div class=\"markdown prose w-full break-words dark:prose-invert light\"><p>Here is an example of how you can use a single Tilemap to implement a chunking system in Godot 4:</p><pre><div class=\"bg-black mb-4 rounded-md\"><div class=\"flex items-center relative text-gray-200 bg-gray-800 px-4 py-2 text-xs font-sans\"><span class=\"\">python</span><button class=\"flex ml-auto gap-2\"><svg stroke=\"currentColor\" fill=\"none\" stroke-width=\"2\" viewBox=\"0 0 24 24\" stroke-linecap=\"round\" stroke-linejoin=\"round\" class=\"h-4 w-4\" height=\"1em\" width=\"1em\" xmlns=\"http://www.w3.org/2000/svg\" data-darkreader-inline-stroke=\"\" style=\"--darkreader-inline-stroke:currentColor;\"><path d=\"M16 4h2a2 2 0 0 1 2 2v14a2 2 0 0 1-2 2H6a2 2 0 0 1-2-2V6a2 2 0 0 1 2-2h2\"></path><rect x=\"8\" y=\"2\" width=\"8\" height=\"4\" rx=\"1\" ry=\"1\"></rect></svg>Copy code</button></div><div class=\"p-4 overflow-y-auto\"><code class=\"!whitespace-pre hljs language-python\">extends Node\\n\\nvar tilemap\\nvar chunk_size = <span class=\"hljs-number\">16</span>\\nvar chunks_count = <span class=\"hljs-number\">10</span>\\nvar chunk_tiles = []\\n\\nfunc _ready():\\n    <span class=\"hljs-comment\"># Create the Tilemap</span>\\n    tilemap = TileMap.new()\\n    tilemap.set_size(chunk_size * chunks_count, chunk_size * chunks_count)\\n    add_child(tilemap)\\n\\n    <span class=\"hljs-comment\"># Generate the tiles for each chunk using the world generation algorithm</span>\\n    <span class=\"hljs-keyword\">for</span> i <span class=\"hljs-keyword\">in</span> <span class=\"hljs-built_in\">range</span>(chunks_count * chunks_count):\\n        chunk_tiles.append(world_gen_algorithm(i))\\n\\n    <span class=\"hljs-comment\"># Set the tiles on the Tilemap</span>\\n    tilemap.set_tiles(chunk_tiles)\\n\\n    <span class=\"hljs-comment\"># Set all cells as occluders</span>\\n    <span class=\"hljs-keyword\">for</span> x <span class=\"hljs-keyword\">in</span> <span class=\"hljs-built_in\">range</span>(tilemap.get_size().x):\\n        <span class=\"hljs-keyword\">for</span> y <span class=\"hljs-keyword\">in</span> <span class=\"hljs-built_in\">range</span>(tilemap.get_size().y):\\n            tilemap.set_cell_occluder(x, y, true)\\n\\nfunc _process(delta):\\n    <span class=\"hljs-comment\"># Get the used rect of the Tilemap</span>\\n    var used_rect = tilemap.get_used_rect()\\n\\n    <span class=\"hljs-comment\"># Calculate the offset for the Tilemap</span>\\n    var offset_x = used_rect.position.x\\n    var offset_y = used_rect.position.y\\n\\n    <span class=\"hljs-comment\"># If the used rect has a size greater than 0, set the offset and make the Tilemap visible</span>\\n    <span class=\"hljs-keyword\">if</span> used_rect.size.x &gt; <span class=\"hljs-number\">0</span>:\\n        tilemap.set_offset(offset_x, offset_y)\\n        tilemap.set_visible(true)\\n    <span class=\"hljs-keyword\">else</span>:\\n        tilemap.set_visible(false)\\n\\n    <span class=\"hljs-comment\"># Set the occluder light on cells outside of the used rect</span>\\n    <span class=\"hljs-keyword\">for</span> x <span class=\"hljs-keyword\">in</span> <span class=\"hljs-built_in\">range</span>(tilemap.get_size().x):\\n        <span class=\"hljs-keyword\">for</span> y <span class=\"hljs-keyword\">in</span> <span class=\"hljs-built_in\">range</span>(tilemap.get_size().y):\\n            <span class=\"hljs-keyword\">if</span> !used_rect.has_point(Vector2(x, y)):\\n                tilemap.set_cell_occluder_light(x, y, true)\\n            <span class=\"hljs-keyword\">else</span>:\\n                tilemap.set_cell_occluder_light(x, y, false)\\n</code></div></div></pre><p>In this example, a single Tilemap is created and its size is set to be the chunks count multiplied by the chunk size. Tiles are generated for each chunk using the world generation algorithm and then set on the Tilemap. The Tilemap\\'s offset is calculated based on the used rect of the Tilemap, and the Tilemap is only made visible when there are tiles in the used rect. The cells outside of the used rect are set as occluder light, this way they will be culled.</p><p>Please keep in mind that this code is just an example, you will have to make adjustments according to your specific requirements. Also, the \"world_gen_algorithm\" function is not provided here and you will have to create it according to your game design.</p></div>'},\n",
       "  {'from': 'human', 'value': 'The set_cell_occluder method does not exist'},\n",
       "  {'from': 'gpt',\n",
       "   'value': '<div class=\"markdown prose w-full break-words dark:prose-invert light\"><p>You are correct, the <code>set_cell_occluder</code> method does not exist in the TileMap class of Godot 4.</p><p>Instead, you can use the <code>set_cell_autotile_coord</code> function to set a tile as an occluder. If a tile is set as an occluder, the engine will not render any tiles that are behind it, effectively occluding them.</p><p>Here is an example of how you can use a single Tilemap to implement a chunking system in Godot 4 without using <code>set_cell_occluder</code> method:</p><pre><div class=\"bg-black mb-4 rounded-md\"><div class=\"flex items-center relative text-gray-200 bg-gray-800 px-4 py-2 text-xs font-sans\"><span class=\"\">python</span><button class=\"flex ml-auto gap-2\"><svg stroke=\"currentColor\" fill=\"none\" stroke-width=\"2\" viewBox=\"0 0 24 24\" stroke-linecap=\"round\" stroke-linejoin=\"round\" class=\"h-4 w-4\" height=\"1em\" width=\"1em\" xmlns=\"http://www.w3.org/2000/svg\" data-darkreader-inline-stroke=\"\" style=\"--darkreader-inline-stroke:currentColor;\"><path d=\"M16 4h2a2 2 0 0 1 2 2v14a2 2 0 0 1-2 2H6a2 2 0 0 1-2-2V6a2 2 0 0 1 2-2h2\"></path><rect x=\"8\" y=\"2\" width=\"8\" height=\"4\" rx=\"1\" ry=\"1\"></rect></svg>Copy code</button></div><div class=\"p-4 overflow-y-auto\"><code class=\"!whitespace-pre hljs language-python\">extends Node\\n\\nvar tilemap\\nvar chunk_size = <span class=\"hljs-number\">16</span>\\nvar chunks_count = <span class=\"hljs-number\">10</span>\\nvar chunk_tiles = []\\n\\nfunc _ready():\\n    <span class=\"hljs-comment\"># Create the Tilemap</span>\\n    tilemap = TileMap.new()\\n    tilemap.set_size(chunk_size * chunks_count, chunk_size * chunks_count)\\n    add_child(tilemap)\\n\\n    <span class=\"hljs-comment\"># Generate the tiles for each chunk using the world generation algorithm</span>\\n    <span class=\"hljs-keyword\">for</span> i <span class=\"hljs-keyword\">in</span> <span class=\"hljs-built_in\">range</span>(chunks_count * chunks_count):\\n        chunk_tiles.append(world_gen_algorithm(i))\\n\\n    <span class=\"hljs-comment\"># Set the tiles on the Tilemap</span>\\n    tilemap.set_tiles(chunk_tiles)\\n\\n    <span class=\"hljs-comment\"># Set all cells as occluders</span>\\n    <span class=\"hljs-keyword\">for</span> x <span class=\"hljs-keyword\">in</span> <span class=\"hljs-built_in\">range</span>(tilemap.get_size().x):\\n        <span class=\"hljs-keyword\">for</span> y <span class=\"hljs-keyword\">in</span> <span class=\"hljs-built_in\">range</span>(tilemap.get_size().y):\\n            tilemap.set_cell_autotile_coord(x, y, Vector2(<span class=\"hljs-number\">1</span>, <span class=\"hljs-number\">1</span>))\\n\\nfunc _process(delta):\\n    <span class=\"hljs-comment\"># Get the used rect of the Tilemap</span>\\n    var used_rect = tilemap.get_used_rect()\\n\\n    <span class=\"hljs-comment\"># Calculate the offset for the Tilemap</span>\\n    var offset_x = used_rect.position.x\\n    var offset_y = used_rect.position.y\\n\\n    <span class=\"hljs-comment\"># If the used rect has a size greater than 0, set the offset and make the Tilemap visible</span>\\n    <span class=\"hljs-keyword\">if</span> used_rect.size.x &gt; <span class=\"hljs-number\">0</span>:\\n        tilemap.set_offset(offset_x, offset_y)\\n        tilemap.set_visible(true)\\n    <span class=\"hljs-keyword\">else</span>:\\n        tilemap.set_visible(false)\\n</code></div></div></pre><p>In this example, a single Tilemap is created and its size is set to be the chunks count multiplied by the chunk size. Tiles are generated for each chunk using the world generation algorithm and then set on the Tilemap. The Tilemap\\'s offset is calculated based on the used rect of the Tilemap, and the Tilemap is only made visible when there are tiles in the used rect. The <code>set_cell_autotile_coord</code> function is used to set all cells as occluders.</p><p>Please keep in mind that this code is just an example, you will have to make adjustments according to your specific requirements. Also, the \"world_gen_algorithm\" function is not provided here and you will have to create it according to your game design.</p></div>'},\n",
       "  {'from': 'human',\n",
       "   'value': 'set_cell_autotile_coord does not exist in Godot 4 Beta 14'},\n",
       "  {'from': 'gpt',\n",
       "   'value': '<div class=\"markdown prose w-full break-words dark:prose-invert light\"><p>You are correct, the <code>set_cell_autotile_coord</code> method does not exist in Godot 4 Beta 14.</p><p>In the latest version of Godot 4, you can use the <code>set_cell_item</code> method on a TileMap to set a tile as an occluder. If a tile is set as an occluder, the engine will not render any tiles that are behind it, effectively occluding them.</p><p>Here is an example of how you can use a single Tilemap to implement a chunking system in Godot 4 Beta 14 without using <code>set_cell_autotile_coord</code> method:</p><pre><div class=\"bg-black mb-4 rounded-md\"><div class=\"flex items-center relative text-gray-200 bg-gray-800 px-4 py-2 text-xs font-sans\"><span class=\"\">python</span><button class=\"flex ml-auto gap-2\"><svg stroke=\"currentColor\" fill=\"none\" stroke-width=\"2\" viewBox=\"0 0 24 24\" stroke-linecap=\"round\" stroke-linejoin=\"round\" class=\"h-4 w-4\" height=\"1em\" width=\"1em\" xmlns=\"http://www.w3.org/2000/svg\" data-darkreader-inline-stroke=\"\" style=\"--darkreader-inline-stroke:currentColor;\"><path d=\"M16 4h2a2 2 0 0 1 2 2v14a2 2 0 0 1-2 2H6a2 2 0 0 1-2-2V6a2 2 0 0 1 2-2h2\"></path><rect x=\"8\" y=\"2\" width=\"8\" height=\"4\" rx=\"1\" ry=\"1\"></rect></svg>Copy code</button></div><div class=\"p-4 overflow-y-auto\"><code class=\"!whitespace-pre hljs language-python\">extends Node\\n\\nvar tilemap\\nvar chunk_size = <span class=\"hljs-number\">16</span>\\nvar chunks_count = <span class=\"hljs-number\">10</span>\\nvar chunk_tiles = []\\n\\nfunc _ready():\\n    <span class=\"hljs-comment\"># Create the Tilemap</span>\\n    tilemap = TileMap.new()\\n    tilemap.set_size(chunk_size * chunks_count, chunk_size * chunks_count)\\n    add_child(tilemap)\\n\\n    <span class=\"hljs-comment\"># Generate the tiles for each chunk using the world generation algorithm</span>\\n    <span class=\"hljs-keyword\">for</span> i <span class=\"hljs-keyword\">in</span> <span class=\"hljs-built_in\">range</span>(chunks_count * chunks_count):\\n        chunk_tiles.append(world_gen_algorithm(i))\\n\\n    <span class=\"hljs-comment\"># Set the tiles on the Tilemap</span>\\n    tilemap.set_tiles(chunk_tiles)\\n\\n    <span class=\"hljs-comment\"># Set all cells as occluders</span>\\n    <span class=\"hljs-keyword\">for</span> x <span class=\"hljs-keyword\">in</span> <span class=\"hljs-built_in\">range</span>(tilemap.get_size().x):\\n        <span class=\"hljs-keyword\">for</span> y <span class=\"hljs-keyword\">in</span> <span class=\"hljs-built_in\">range</span>(tilemap.get_size().y):\\n            tilemap.set_cell_item(x, y, -<span class=\"hljs-number\">1</span>, <span class=\"hljs-number\">0</span>)\\n\\nfunc _process(delta):\\n    <span class=\"hljs-comment\"># Get the used rect of the Tilemap</span>\\n    var used_rect = tilemap.get_used_rect()\\n\\n    <span class=\"hljs-comment\"># Calculate the offset for the Tilemap</span>\\n    var offset_x = used_rect.position.x\\n    var offset_y = used_rect.position.y\\n\\n    <span class=\"hljs-comment\"># If the used rect has a size greater than 0, set the offset and make the Tilemap visible</span>\\n    <span class=\"hljs-keyword\">if</span> used_rect.size.x &gt; <span class=\"hljs-number\">0</span>:\\n        tilemap.set_offset(offset_x, offset_y)\\n        tilemap.set_visible(true)\\n    <span class=\"hljs-keyword\">else</span>:\\n        tilemap.set_visible(false)\\n</code></div></div></pre><p>In this example, a single Tilemap is created and its size is set to be the chunks count multiplied by the chunk size. Tiles are generated for each chunk using the world generation algorithm and then set on the Tilemap. The Tilemap\\'s</p></div>'},\n",
       "  {'from': 'human',\n",
       "   'value': \"set_cell_item is not a method in the TileMap class, it's used for 3D GridMaps and I need a 2D TileMap\"},\n",
       "  {'from': 'gpt',\n",
       "   'value': '<div class=\"markdown prose w-full break-words dark:prose-invert light\"><p>I apologize for the confusion, you are correct that the <code>set_cell_item</code> method is not available in the TileMap class for 2D maps, it is used for 3D GridMaps.</p><p>To set tiles as occluders in a 2D TileMap, you can use the <code>set_occluder</code> method on the TileSet resource associated with the TileMap. This method can be used to set individual tiles as occluders. Once you set a tile as an occluder, the engine will not render any tiles that are behind it, effectively occluding them.</p><p>Here is an example of how you can use a single Tilemap to implement a chunking system in Godot 4 Beta 14</p><pre><div class=\"bg-black mb-4 rounded-md\"><div class=\"flex items-center relative text-gray-200 bg-gray-800 px-4 py-2 text-xs font-sans\"><span class=\"\">python</span><button class=\"flex ml-auto gap-2\"><svg stroke=\"currentColor\" fill=\"none\" stroke-width=\"2\" viewBox=\"0 0 24 24\" stroke-linecap=\"round\" stroke-linejoin=\"round\" class=\"h-4 w-4\" height=\"1em\" width=\"1em\" xmlns=\"http://www.w3.org/2000/svg\" data-darkreader-inline-stroke=\"\" style=\"--darkreader-inline-stroke:currentColor;\"><path d=\"M16 4h2a2 2 0 0 1 2 2v14a2 2 0 0 1-2 2H6a2 2 0 0 1-2-2V6a2 2 0 0 1 2-2h2\"></path><rect x=\"8\" y=\"2\" width=\"8\" height=\"4\" rx=\"1\" ry=\"1\"></rect></svg>Copy code</button></div><div class=\"p-4 overflow-y-auto\"><code class=\"!whitespace-pre hljs language-python\">extends Node\\n\\nvar tilemap\\nvar chunk_size = <span class=\"hljs-number\">16</span>\\nvar chunks_count = <span class=\"hljs-number\">10</span>\\nvar chunk_tiles = []\\n\\nfunc _ready():\\n    <span class=\"hljs-comment\"># Create the Tilemap</span>\\n    tilemap = TileMap.new()\\n    tilemap.set_size(chunk_size * chunks_count, chunk_size * chunks_count)\\n    add_child(tilemap)\\n\\n    <span class=\"hljs-comment\"># Generate the tiles for each chunk using the world generation algorithm</span>\\n    <span class=\"hljs-keyword\">for</span> i <span class=\"hljs-keyword\">in</span> <span class=\"hljs-built_in\">range</span>(chunks_count * chunks_count):\\n        chunk_tiles.append(world_gen_algorithm(i))\\n\\n    <span class=\"hljs-comment\"># Set the tiles on the Tilemap</span>\\n    tilemap.set_tiles(chunk_tiles)\\n\\n    <span class=\"hljs-comment\"># Set all cells as occluders</span>\\n    <span class=\"hljs-keyword\">for</span> i <span class=\"hljs-keyword\">in</span> <span class=\"hljs-built_in\">range</span>(world_gen_algorithm.count):\\n        var tile = world_gen_algorithm[i]\\n        var tile_set = tilemap.get_tileset()\\n        tile_set.set_occluder(tile, true)\\n\\nfunc _process(delta):\\n    <span class=\"hljs-comment\"># Get the used rect of the Tilemap</span>\\n    var used_rect = tilemap.get_used_rect()\\n\\n    <span class=\"hljs-comment\"># Calculate the offset for the Tilemap</span>\\n    var offset_x = used_rect.position.x\\n    var offset_y = used_rect.position.y\\n\\n    <span class=\"hljs-comment\"># If the used rect has a size greater than 0, set the offset and make the Tilemap visible</span>\\n    <span class=\"hljs-keyword\">if</span> used_rect.size.x &gt; <span class=\"hljs-number\">0</span>:\\n       \\n</code></div></div></pre></div>'},\n",
       "  {'from': 'human',\n",
       "   'value': \"I need a function that makes tiles invisible when you're far and visible when you're near, not one that makes tiles behind them invisible\"},\n",
       "  {'from': 'gpt',\n",
       "   'value': '<div class=\"markdown prose w-full break-words dark:prose-invert light\"><p>To make tiles invisible when the player is far away and visible when the player is near, you can use the <code>set_cell_visible</code> method on the TileMap class.</p><p>Here is an example of how you can use the <code>set_cell_visible</code> method to create a function that makes tiles invisible when the player is far away and visible when the player is near:</p><pre><div class=\"bg-black mb-4 rounded-md\"><div class=\"flex items-center relative text-gray-200 bg-gray-800 px-4 py-2 text-xs font-sans\"><span class=\"\">python</span><button class=\"flex ml-auto gap-2\"><svg stroke=\"currentColor\" fill=\"none\" stroke-width=\"2\" viewBox=\"0 0 24 24\" stroke-linecap=\"round\" stroke-linejoin=\"round\" class=\"h-4 w-4\" height=\"1em\" width=\"1em\" xmlns=\"http://www.w3.org/2000/svg\" data-darkreader-inline-stroke=\"\" style=\"--darkreader-inline-stroke:currentColor;\"><path d=\"M16 4h2a2 2 0 0 1 2 2v14a2 2 0 0 1-2 2H6a2 2 0 0 1-2-2V6a2 2 0 0 1 2-2h2\"></path><rect x=\"8\" y=\"2\" width=\"8\" height=\"4\" rx=\"1\" ry=\"1\"></rect></svg>Copy code</button></div><div class=\"p-4 overflow-y-auto\"><code class=\"!whitespace-pre hljs language-python\">extends Node\\n\\nvar tilemap\\nvar chunk_size = <span class=\"hljs-number\">16</span>\\nvar chunks_count = <span class=\"hljs-number\">10</span>\\nvar chunk_tiles = []\\nvar player\\nvar visibility_distance = <span class=\"hljs-number\">100</span>\\n\\nfunc _ready():\\n    <span class=\"hljs-comment\"># Create the Tilemap</span>\\n    tilemap = TileMap.new()\\n    tilemap.set_size(chunk_size * chunks_count, chunk_size * chunks_count)\\n    add_child(tilemap)\\n\\n    <span class=\"hljs-comment\"># Generate the tiles for each chunk using the world generation algorithm</span>\\n    <span class=\"hljs-keyword\">for</span> i <span class=\"hljs-keyword\">in</span> <span class=\"hljs-built_in\">range</span>(chunks_count * chunks_count):\\n        chunk_tiles.append(world_gen_algorithm(i))\\n\\n    <span class=\"hljs-comment\"># Set the tiles on the Tilemap</span>\\n    tilemap.set_tiles(chunk_tiles)\\n\\n    <span class=\"hljs-comment\"># Get the player</span>\\n    player = get_node(<span class=\"hljs-string\">\"Player\"</span>)\\n\\nfunc _process(delta):\\n    <span class=\"hljs-comment\"># Get the used rect of the Tilemap</span>\\n    var used_rect = tilemap.get_used_rect()\\n\\n    <span class=\"hljs-comment\"># Calculate the offset for the Tilemap</span>\\n    var offset_x = used_rect.position.x\\n    var offset_y = used_rect.position.y\\n\\n    <span class=\"hljs-comment\"># If the used rect has a size greater than 0, set the offset and make the Tilemap visible</span>\\n    <span class=\"hljs-keyword\">if</span> used_rect.size.x &gt; <span class=\"hljs-number\">0</span>:\\n        tilemap.set_offset(offset_x, offset_y)\\n        tilemap.set_visible(true)\\n    <span class=\"hljs-keyword\">else</span>:\\n       \\n</code></div></div></pre></div>'}]}"
      ]
     },
     "execution_count": 4,
     "metadata": {},
     "output_type": "execute_result"
    }
   ],
   "source": [
    "sampled_data[0]"
   ]
  },
  {
   "cell_type": "code",
   "execution_count": 5,
   "id": "20bbc232-3372-40d1-8a2c-2d54801e9c73",
   "metadata": {},
   "outputs": [],
   "source": [
    "# load the tokenizer\n",
    "from transformers import (\n",
    "    AutoTokenizer\n",
    ")\n",
    "tokenizer = AutoTokenizer.from_pretrained('facebook/opt-13b')"
   ]
  },
  {
   "cell_type": "code",
   "execution_count": 6,
   "id": "d6b13382-a0b8-4d0f-bea7-ce7554ca5c2b",
   "metadata": {},
   "outputs": [],
   "source": [
    "def get_input_token_len(test_prompt, tokenizer):\n",
    "    token = tokenizer(test_prompt, return_tensors=\"pt\")['input_ids']\n",
    "    len_ = token.shape[-1]\n",
    "    return len_"
   ]
  },
  {
   "cell_type": "code",
   "execution_count": 7,
   "id": "260403ec-8464-4237-8f02-2f7b1ec5220a",
   "metadata": {},
   "outputs": [],
   "source": [
    "conversations = [\n",
    "    i['conversations'] for i in sampled_data\n",
    "]"
   ]
  },
  {
   "cell_type": "code",
   "execution_count": 8,
   "id": "dcc99c1e-f28a-4b03-bb55-0dccd5e13229",
   "metadata": {},
   "outputs": [
    {
     "data": {
      "text/plain": [
       "[{'from': 'human', 'value': 'house music'},\n",
       " {'from': 'gpt',\n",
       "  'value': '<div class=\"markdown prose w-full break-words dark:prose-invert light\"><table><thead><tr><th>Keyword Cluster</th><th>Keyword</th><th>Search Intent</th><th>Title</th><th>Meta Description</th></tr></thead><tbody><tr><td>History of House Music</td><td>Evolution of House Music</td><td>Informational</td><td>The Evolution of House Music: From Disco to Techno</td><td>Discover the rich history of house music and how it has evolved over the decades. From its roots in disco to its current forms of techno and deep house. Learn about the key figures and events that shaped this genre of music.</td></tr><tr><td>Popular House Music Artists</td><td>Daft Punk</td><td>Informational</td><td>The Rise of Daft Punk: How the French Duo Revolutionized House Music</td><td>Learn about the rise of the French duo Daft Punk and how they revolutionized the house music scene. Discover their unique sound and how they have influenced other artists in the genre.</td></tr><tr><td>House Music Festivals</td><td>Tomorrowland</td><td>Commercial</td><td>Tomorrowland: The Ultimate House Music Festival Experience</td><td>Experience the ultimate house music festival at Tomorrowland. With world-renowned DJs and state-of-the-art stage production, this is a event not to be missed. Get your tickets now!</td></tr><tr><td>House Music Production</td><td>Ableton Live</td><td>Transactional</td><td>Mastering House Music Production with Ableton Live</td><td>Learn how to produce professional-quality house music with Ableton Live. From beat-making to mixing and mastering, this course will take your production skills to the next level. Enroll now!</td></tr><tr><td>Subgenres of House Music</td><td>Deep House</td><td>Informational</td><td>Exploring the Depths of Deep House: Understanding the Subgenre</td><td>Dive into the world of deep house and discover its unique sound and characteristics. Learn about the history and influences of this subgenre of house music and how it differs from other forms.</td></tr><tr><td>House Music Remixes</td><td>Calvin Harris</td><td>Informational</td><td>The Art of Remixing: How Calvin Harris Elevates House Music</td><td>Learn about the art of remixing and how Calvin Harris raises the bar for house music. Discover his approach to remixing and how he has made a name for himself as a master remixer.</td></tr><tr><td>House Music Culture</td><td>Rave Culture</td><td>Informational</td><td>The Culture of Rave: Understanding the Impact of House Music</td><td>Explore the culture of rave and how it has been shaped by house music. Learn about the key figures, events, and movements that have defined this subculture and its relationship to house music.</td></tr></tbody></table></div>'},\n",
       " {'from': 'human', 'value': 'Subgenres of House Music'},\n",
       " {'from': 'gpt',\n",
       "  'value': '<div class=\"markdown prose w-full break-words dark:prose-invert light\"><table><thead><tr><th>Keyword Cluster</th><th>Keyword</th><th>Search Intent</th><th>Title</th><th>Meta Description</th></tr></thead><tbody><tr><td>Subgenres of House Music</td><td>Deep House</td><td>Informational</td><td>The Soul of Deep House: Exploring the Subgenre\\'s Origins and Evolution</td><td>Discover the origins and evolution of deep house, one of the most popular subgenres of house music. Learn about the key figures, sounds, and influences that have shaped this soulful subgenre and its lasting impact on the music industry.</td></tr><tr><td>Subgenres of House Music</td><td>Tech House</td><td>Informational</td><td>The Technological Influence of Tech House: Understanding the Subgenre</td><td>Explore the sound and influences of tech house, a subgenre of house music that combines elements of techno and deep house. Learn about the key figures and events that have shaped this subgenre and its relationship to technology.</td></tr><tr><td>Subgenres of House Music</td><td>Acid House</td><td>Informational</td><td>The Acid Trip of Acid House: A Look into the Subgenre\\'s History and Sound</td><td>Take a trip through the history and sound of acid house, a subgenre of house music known for its use of the Roland TB-303. Learn about the key figures, events, and cultural influences that have shaped this subgenre and its lasting impact on the music industry.</td></tr><tr><td>Subgenres of House Music</td><td>Chicago House</td><td>Informational</td><td>The Windy City Sound of Chicago House: Understanding the Subgenre</td><td>Discover the sound and origins of Chicago house, a subgenre of house music that emerged in the city of Chicago in the 1980s. Learn about the key figures, sounds, and cultural influences that have shaped this subgenre and its lasting impact on the music industry.</td></tr><tr><td>Subgenres of House Music</td><td>Electro House</td><td>Informational</td><td>The Evolution of Electro House: From Disco to Techno</td><td>Learn about the evolution of Electro house, one of the most popular subgenres of house music. From its roots in disco to its current forms of techno and deep house. Learn about the key figures and events that shaped this genre of music.</td></tr><tr><td>Subgenres of House Music</td><td>Progressive House</td><td>Informational</td><td>The Progressive Sound of Progressive House: Understanding the Subgenre</td><td>Explore the sound and influences of Progressive house, a subgenre of house music characterized by its use of complex chord structures and long builds. Learn about the key figures, events, and cultural influences that have shaped this subgenre and its lasting impact on the music industry.</td></tr></tbody></table></div>'},\n",
       " {'from': 'human', 'value': 'write a song about the history of house music'},\n",
       " {'from': 'gpt',\n",
       "  'value': '<div class=\"markdown prose w-full break-words dark:prose-invert light\"><p>Verse 1:\\nIt started in the clubs of Chicago\\nWith a beat that made you wanna go go\\nFrom disco to the new wave sound\\nHouse music was taking over the town</p><p>Chorus:\\nHouse music, house music\\nThe beat of the streets\\nHouse music, house music\\nThe rhythm can\\'t be beat</p><p>Verse 2:\\nIt spread to the streets of New York City\\nWith DJs spinning records in the city\\nThe sound was evolving every day\\nFrom garage to deep, house music had its way</p><p>Chorus:\\nHouse music, house music\\nThe beat of the streets\\nHouse music, house music\\nThe rhythm can\\'t be beat</p><p>Bridge:\\nThe Roland TB-303 gave birth to acid\\nAnd techno and trance took it to the limit\\nFrom the underground to the mainstream\\nHouse music was living its dream</p><p>Chorus:\\nHouse music, house music\\nThe beat of the streets\\nHouse music, house music\\nThe rhythm can\\'t be beat</p><p>Outro:\\nFrom the past to the present\\nHouse music\\'s here to stay\\nWith a beat that never ends\\nIt will always light the way</p><p>House music, house music\\nThe beat of the streets\\nHouse music, house music\\nThe rhythm can\\'t be beat.</p></div>'},\n",
       " {'from': 'human', 'value': 'with a house song about the vibe in the club'},\n",
       " {'from': 'gpt',\n",
       "  'value': '<div class=\"markdown prose w-full break-words dark:prose-invert light\"><p>Verse 1:\\nThe lights are low and the bass is high\\nThe crowd is feeling the vibe tonight\\nWe\\'re dancing to the beat of the drums\\nIn the club where the music never stops</p><p>Chorus:\\nHouse music, house music\\nWe\\'re feeling the vibe\\nHouse music, house music\\nWe\\'re alive tonight</p><p>Verse 2:\\nThe DJs spinning tracks we love\\nThe energy of the crowd is building up\\nWe\\'re lost in the music and we feel alive\\nIn the club where we come to thrive</p><p>Chorus:\\nHouse music, house music\\nWe\\'re feeling the vibe\\nHouse music, house music\\nWe\\'re alive tonight</p><p>Bridge:\\nWe raise our hands to the sky\\nAs the music takes us higher and higher\\nWe let go of our worries and our fears\\nIn the club, we\\'re free from all our tears</p><p>Chorus:\\nHouse music, house music\\nWe\\'re feeling the vibe\\nHouse music, house music\\nWe\\'re alive tonight</p><p>Outro:\\nSo let\\'s keep dancing all night long\\nWith the beat of the house music song\\nWe\\'ll keep feeling the vibe and the energy\\nIn the club, where we come to be free.</p></div>'},\n",
       " {'from': 'human', 'value': 'best way to promote a house track'},\n",
       " {'from': 'gpt',\n",
       "  'value': '<div class=\"markdown prose w-full break-words dark:prose-invert light\"><p>Promoting a house track can be done through a variety of methods, but some of the most effective include:</p><ol><li><p>Networking: Building relationships with other DJs, producers, and industry professionals can help you get your track played and exposed to a wider audience. This can be done through attending events and networking with other industry professionals.</p></li><li><p>Social Media: Use social media platforms like Soundcloud, Facebook, and Instagram to promote your track. Share your music with your followers, post about upcoming gigs and events, and use hashtags to reach a wider audience.</p></li><li><p>Online Music Platforms: Share your track on online platforms like Spotify, Beatport and iTunes. This will make it easy for listeners to access your music and give you more visibility as an artist.</p></li><li><p>Blogs and Websites: Reach out to bloggers and website owners who cover the house music scene, and ask them to feature your track. This can help you get more exposure and attract new listeners.</p></li><li><p>Live shows: Play live shows in clubs, festivals and events where house music is prevalent. It will help you to promote your track by playing it live and get feedback from the audience.</p></li><li><p>Collaboration: Collaborate with other artists or DJs in the house music scene. This can help expose your music to a new audience and give you the opportunity to work with other musicians in the genre.</p></li></ol><p>Overall, the key is to be consistent in promoting your track and finding new ways to reach potential listeners. Building a strong online presence, networking and collaborating with other artists and industry professionals, and playing live shows are all effective ways to promote your house track.</p></div>'},\n",
       " {'from': 'human', 'value': 'get more followers on insta'},\n",
       " {'from': 'gpt',\n",
       "  'value': '<div class=\"markdown prose w-full break-words dark:prose-invert light\"><p>There are several ways to get more followers on Instagram:</p><ol><li><p>Optimize your profile: Use a clear profile picture and bio that describes who you are and what you do. This will make it easier for people to find you and understand what you\\'re about.</p></li><li><p>Use hashtags: Use relevant hashtags in your posts, this will help your posts reach a wider audience and attract new followers.</p></li><li><p>Engage with your audience: Respond to comments and messages, and engage with other users by liking and commenting on their posts. This will help you build a relationship with your followers and attract new ones.</p></li><li><p>Post consistently: Posting consistently will help you keep your followers engaged and attract new ones. Try to post at least once a day, and use a mix of different types of content such as photos, videos and stories.</p></li><li><p>Run a promotion: Consider running a promotion or giveaway to attract new followers. This could be a simple \"like and follow to win\" contest or a more complex campaign.</p></li><li><p>Use Instagram Stories: Instagram stories are a great way to connect with your followers and reach new audiences. Use Instagram stories to share behind the scenes content, answer questions, or share exclusive offers.</p></li><li><p>Collaborate with other users: Collaborating with other users can help you reach new audiences and attract new followers. Look for users with a similar niche and reach out to them to collaborate on a post or project.</p></li><li><p>Use Instagram analytics: Use Instagram analytics to track your performance, understand your audience, and identify trends in your content. This will help you make informed decisions about your content and strategy.</p></li></ol><p>Remember that growing followers on Instagram takes time and effort. Be consistent with your content and engagement, and keep experimenting with different strategies to find what works best for you.</p></div>'},\n",
       " {'from': 'human', 'value': 'how to get routine in your life ?'},\n",
       " {'from': 'gpt',\n",
       "  'value': '<div class=\"markdown prose w-full break-words dark:prose-invert light\"><p>Developing a routine can help improve productivity and reduce stress. Here are some tips to help you establish a routine in your life:</p><ol><li><p>Set clear goals: Establish specific, measurable and achievable goals for what you want to accomplish. This will help you stay focused and motivated.</p></li><li><p>Create a schedule: Plan out your day, week, or month in advance. Use a calendar or planner to schedule in regular tasks, as well as appointments and deadlines.</p></li><li><p>Prioritize: Prioritize your tasks by importance and urgency. This will help you focus on the most important tasks and avoid procrastination.</p></li><li><p>Make a to-do list: Make a list of tasks you want to accomplish each day. This will help you stay on track and give you a sense of accomplishment as you complete each task.</p></li><li><p>Stick to a routine: Once you have a schedule and routine in place, stick to it as much as possible. Consistency is key to making a routine part of your life.</p></li><li><p>Be flexible: Don\\'t be too rigid with your routine. Allow for flexibility and adjustments as needed.</p></li><li><p>Take breaks: Taking regular breaks will help you stay focused and refreshed. Make sure to schedule in time for rest and relaxation.</p></li><li><p>Reflect and review: Reflect on your routine regularly and make adjustments as needed. Reflecting on how you spent your time, how you feel, and what worked or did not work will help you make improvements.</p></li></ol><p>Remember, developing a routine takes time and effort, so be patient with yourself. Start small and make changes gradually, it will be more likely to stick.</p></div>'},\n",
       " {'from': 'human', 'value': 'Continue writing please'},\n",
       " {'from': 'gpt',\n",
       "  'value': '<div class=\"markdown prose w-full break-words dark:prose-invert light\"><ol start=\"9\"><li><p>Use reminders: Set reminders for yourself throughout the day to help you stay on track. This could be a reminder to take a break, start a new task, or make a call.</p></li><li><p>Eliminate distractions: Identify and eliminate distractions that prevent you from sticking to your routine. This could be turning off your phone during work hours, closing social media tabs while you work, or finding a quiet place to work.</p></li><li><p>Make it a habit: To make a routine a habit, try to do the same tasks at the same time every day. The more consistent you are with your routine, the more likely it will become a habit.</p></li><li><p>Be mindful: Be mindful of your thoughts and feelings as you go through your routine. Pay attention to what is working and what isn’t. Use this information to make adjustments and fine-tune your routine.</p></li><li><p>Break up larger tasks: Break larger tasks into smaller, manageable chunks. This will make the task less overwhelming and more manageable, and will help you stay focused.</p></li><li><p>Get support: Getting support from friends, family, or a coach can help you stay accountable and motivated. Share your goals and progress with them and ask for their support and encouragement.</p></li><li><p>Have fun: Make your routine enjoyable. Incorporate activities and tasks that you enjoy, and try to find the positive in each task. This will make it easier to stick to your routine and make it a positive part of your life.</p></li></ol><p>Ultimately, the key to establishing a successful routine is to be consistent, persistent and flexible. With a bit of effort, you can turn your routine into a habit and enjoy the benefits of a more organized, productive, and fulfilling life.</p></div>'},\n",
       " {'from': 'human', 'value': 'Continue writing please'},\n",
       " {'from': 'gpt',\n",
       "  'value': '<div class=\"markdown prose w-full break-words dark:prose-invert light\"><ol start=\"16\"><li><p>Reward yourself: Reward yourself for sticking to your routine. This could be something small like a piece of candy or a short break, or something bigger like a day off or a vacation. This will help you stay motivated and make sticking to your routine more enjoyable.</p></li><li><p>Be realistic: Be realistic about what you can accomplish in a day and don’t set yourself up for failure by overloading your schedule. Understand that it\\'s better to accomplish a few tasks than to fail at many.</p></li><li><p>Take care of yourself: In addition to following a routine, make sure you are taking care of yourself. Eat healthy, exercise regularly, and get enough sleep. Taking care of your physical and mental health will help you stay focused and motivated.</p></li><li><p>Keep things fresh: Mix up your routine every so often. Trying new things can help you stay motivated and energized. It can also help you discover new interests and hobbies.</p></li><li><p>Keep in mind the end goal: Remember why you\\'re establishing a routine in the first place. Keeping your end goal in mind will help you stay motivated and focused when the going gets tough.</p></li></ol><p>Ultimately, creating a routine takes time and practice, and it\\'s important to be patient with yourself and not get discouraged if you slip up. Remember that it\\'s okay to make mistakes and adjust your routine as needed. The key is to keep trying and keep moving forward, and before you know it, a routine will become a part of your daily life, making it easier to achieve your goals and live a more balanced, productive and fulfilling life.</p></div>'}]"
      ]
     },
     "execution_count": 8,
     "metadata": {},
     "output_type": "execute_result"
    }
   ],
   "source": [
    "conversations[11]"
   ]
  },
  {
   "cell_type": "code",
   "execution_count": 9,
   "id": "cd245839-cfae-4248-8004-d60b2e4226d9",
   "metadata": {},
   "outputs": [
    {
     "name": "stdout",
     "output_type": "stream",
     "text": [
      "9782\n"
     ]
    }
   ],
   "source": [
    "import re\n",
    "# conversation result\n",
    "human_inputs = []\n",
    "for idx, convs in enumerate(conversations):\n",
    "    conv_ = []\n",
    "    has_feed_back = False\n",
    "    for idx_, msg in enumerate(convs):\n",
    "        if msg['from'] == 'human':\n",
    "            conv_.append({'human': msg['value']})\n",
    "        if msg['from'] == 'gpt':\n",
    "            has_feed_back = True\n",
    "            split_token = None\n",
    "            if '<p>' in msg['value']:\n",
    "                split_token = ('<p>', '</p>')\n",
    "            elif '<li>' in msg['value']:\n",
    "                split_token = ('<li>', '</li>')\n",
    "            if split_token is not None:\n",
    "                new_msg = msg['value'].split(split_token[0])[1].split(split_token[1])[0]\n",
    "            else:\n",
    "                pattern = r'<.*?>(.*?)</.*?>'\n",
    "                # Use the re.findall() function to extract the text content\n",
    "                text_content = re.findall(pattern, msg['value'])\n",
    "                if len(text_content) == 0:\n",
    "                    new_msg = msg['value']\n",
    "                else:\n",
    "                    new_msg = text_content[0]\n",
    "            conv_.append({'gpt': new_msg})\n",
    "    if has_feed_back:\n",
    "        human_inputs.append(conv_)\n",
    "print(len(human_inputs))"
   ]
  },
  {
   "cell_type": "code",
   "execution_count": 10,
   "id": "0e04e567-35a9-4df4-afbc-58c1aa9c8f5e",
   "metadata": {},
   "outputs": [
    {
     "data": {
      "text/plain": [
       "[{'human': 'house music'},\n",
       " {'gpt': '<table><thead><tr><th>Keyword Cluster'},\n",
       " {'human': 'Subgenres of House Music'},\n",
       " {'gpt': '<table><thead><tr><th>Keyword Cluster'},\n",
       " {'human': 'write a song about the history of house music'},\n",
       " {'gpt': 'Verse 1:\\nIt started in the clubs of Chicago\\nWith a beat that made you wanna go go\\nFrom disco to the new wave sound\\nHouse music was taking over the town'},\n",
       " {'human': 'with a house song about the vibe in the club'},\n",
       " {'gpt': \"Verse 1:\\nThe lights are low and the bass is high\\nThe crowd is feeling the vibe tonight\\nWe're dancing to the beat of the drums\\nIn the club where the music never stops\"},\n",
       " {'human': 'best way to promote a house track'},\n",
       " {'gpt': 'Promoting a house track can be done through a variety of methods, but some of the most effective include:'},\n",
       " {'human': 'get more followers on insta'},\n",
       " {'gpt': 'There are several ways to get more followers on Instagram:'},\n",
       " {'human': 'how to get routine in your life ?'},\n",
       " {'gpt': 'Developing a routine can help improve productivity and reduce stress. Here are some tips to help you establish a routine in your life:'},\n",
       " {'human': 'Continue writing please'},\n",
       " {'gpt': 'Use reminders: Set reminders for yourself throughout the day to help you stay on track. This could be a reminder to take a break, start a new task, or make a call.'},\n",
       " {'human': 'Continue writing please'},\n",
       " {'gpt': 'Reward yourself: Reward yourself for sticking to your routine. This could be something small like a piece of candy or a short break, or something bigger like a day off or a vacation. This will help you stay motivated and make sticking to your routine more enjoyable.'}]"
      ]
     },
     "execution_count": 10,
     "metadata": {},
     "output_type": "execute_result"
    }
   ],
   "source": [
    "human_inputs[10]"
   ]
  },
  {
   "cell_type": "code",
   "execution_count": 11,
   "id": "c08605ae-4b4a-40b9-a42d-f46b78f27e82",
   "metadata": {},
   "outputs": [],
   "source": [
    "# count length\n",
    "pure_length_data = []\n",
    "for one_conv_human_input in human_inputs:\n",
    "    prev_length = 0\n",
    "    for idx_, msg in enumerate(one_conv_human_input):\n",
    "        value = list(msg.values())[0]\n",
    "        cur_len = get_input_token_len(value, tokenizer)\n",
    "        prev_length += cur_len\n",
    "        if 'human' in msg:\n",
    "            pure_length_data.append(prev_length)"
   ]
  },
  {
   "cell_type": "code",
   "execution_count": 12,
   "id": "519b36fc-1173-4a0b-9d41-09b7c9d7391b",
   "metadata": {},
   "outputs": [
    {
     "data": {
      "text/plain": [
       "79491"
      ]
     },
     "execution_count": 12,
     "metadata": {},
     "output_type": "execute_result"
    }
   ],
   "source": [
    "len(pure_length_data)"
   ]
  },
  {
   "cell_type": "code",
   "execution_count": 13,
   "id": "c6579c8a-fb8d-4f2b-b8a7-303636103fa1",
   "metadata": {},
   "outputs": [
    {
     "data": {
      "text/plain": [
       "[21, 55, 108, 171, 217, 272, 310, 362, 426, 500]"
      ]
     },
     "execution_count": 13,
     "metadata": {},
     "output_type": "execute_result"
    }
   ],
   "source": [
    "pure_length_data[:10]"
   ]
  },
  {
   "cell_type": "code",
   "execution_count": 14,
   "id": "23a68ce1-ecbc-4ce0-8ab7-278226ecec76",
   "metadata": {},
   "outputs": [
    {
     "data": {
      "image/png": "[encoded data removed]",
      "text/plain": [
       "<Figure size 640x480 with 1 Axes>"
      ]
     },
     "metadata": {},
     "output_type": "display_data"
    }
   ],
   "source": [
    "import matplotlib.pyplot as plt\n",
    "\n",
    "# Example data\n",
    "data = pure_length_data\n",
    "# Plot a histogram of the data\n",
    "plt.hist(data, bins=50)\n",
    "plt.xlabel(\"Value\")\n",
    "plt.ylabel(\"Frequency\")\n",
    "plt.title(\"Distribution of Data\")\n",
    "plt.show()"
   ]
  },
  {
   "cell_type": "code",
   "execution_count": 15,
   "id": "36da0286-4db5-4fb8-b9d6-45a20a9453a3",
   "metadata": {},
   "outputs": [
    {
     "data": {
      "text/plain": [
       "178172"
      ]
     },
     "execution_count": 15,
     "metadata": {},
     "output_type": "execute_result"
    }
   ],
   "source": [
    "max(pure_length_data)"
   ]
  },
  {
   "cell_type": "code",
   "execution_count": 20,
   "id": "8818ea72-6d6f-4ff8-97f2-abab2268bca1",
   "metadata": {},
   "outputs": [
    {
     "name": "stdout",
     "output_type": "stream",
     "text": [
      "Number of values less than 128: 11284 (14.20%)\n",
      "Number of values less than 512: 16309 (20.52%)\n",
      "Number of values less than 1024: 11320 (14.24%)\n",
      "Number of values less than 2048: 11551 (14.53%)\n",
      "Number of values less than 178172: 29026 (36.51%)\n"
     ]
    }
   ],
   "source": [
    "interested_ranges = [128, 512, 1024, 2048, max(pure_length_data)]\n",
    "interested_ranges = sorted(interested_ranges)\n",
    "# Initialize counters\n",
    "counts = [0 for i in range(len(interested_ranges))]\n",
    "# Loop over the values in the list and count how many are less than each threshold\n",
    "for value in pure_length_data:\n",
    "    for idx, prompt_length in enumerate(interested_ranges):\n",
    "        if value < prompt_length:\n",
    "            counts[idx] += 1\n",
    "            break # directly pass the value\n",
    "    \n",
    "\n",
    "# sum\n",
    "all_cnt = len(pure_length_data)\n",
    "for idx, count in enumerate(counts):\n",
    "    prompt = interested_ranges[idx]\n",
    "    print(f\"Number of values less than {prompt}: {count} ({count/all_cnt:.2%})\")"
   ]
  },
  {
   "cell_type": "code",
   "execution_count": 17,
   "id": "eb72394e-ce72-40a4-addc-fcf081130bf8",
   "metadata": {},
   "outputs": [
    {
     "name": "stdout",
     "output_type": "stream",
     "text": [
      "25th percentile: 295.00\n",
      "50th percentile: 1076.00\n",
      "75th percentile: 3714.50\n"
     ]
    }
   ],
   "source": [
    "import numpy as np\n",
    "\n",
    "# Compute the percentiles\n",
    "percentile_25 = np.percentile(pure_length_data, 25)\n",
    "percentile_50 = np.percentile(pure_length_data, 50)\n",
    "percentile_75 = np.percentile(pure_length_data, 75)\n",
    "\n",
    "# Print the percentiles\n",
    "print(f\"25th percentile: {percentile_25:.2f}\")\n",
    "print(f\"50th percentile: {percentile_50:.2f}\")\n",
    "print(f\"75th percentile: {percentile_75:.2f}\")"
   ]
  },
  {
   "cell_type": "code",
   "execution_count": null,
   "id": "604927e1-ceaf-4c63-a77e-845f971baa04",
   "metadata": {},
   "outputs": [],
   "source": []
  }
 ],
 "metadata": {
  "kernelspec": {
   "display_name": "Python 3 (ipykernel)",
   "language": "python",
   "name": "python3"
  },
  "language_info": {
   "codemirror_mode": {
    "name": "ipython",
    "version": 3
   },
   "file_extension": ".py",
   "mimetype": "text/x-python",
   "name": "python",
   "nbconvert_exporter": "python",
   "pygments_lexer": "ipython3",
   "version": "3.10.9"
  }
 },
 "nbformat": 4,
 "nbformat_minor": 5
}
