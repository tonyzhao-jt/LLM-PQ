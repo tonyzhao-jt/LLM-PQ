{
 "cells": [
  {
   "cell_type": "code",
   "execution_count": 2,
   "id": "d6a17171-df49-484f-8fec-8e1aa1769d60",
   "metadata": {},
   "outputs": [],
   "source": [
    "# directly load the cost model\n",
    "from shaq.cost_model import LatCostModel\n",
    "profiled_result_folder = '/workspace/shaq/scripts/lat_profiled_result/'\n",
    "device_names = ['Tesla_V100-SXM2-32GB', 'Tesla_P100-PCIE-12GB']\n",
    "lat_cost_model = LatCostModel(device_names)\n",
    "lat_cost_model.update_profiled_result(profiled_result_folder) # load the data"
   ]
  },
  {
   "cell_type": "code",
   "execution_count": 3,
   "id": "bf32a953-065e-4424-a316-e6dc03477116",
   "metadata": {},
   "outputs": [],
   "source": [
    "batch_sizes = [32]\n",
    "available_bits = [4, 16]"
   ]
  },
  {
   "cell_type": "code",
   "execution_count": 4,
   "id": "8d6b1fda-19f9-45e4-a11d-f0a315ff4a30",
   "metadata": {},
   "outputs": [],
   "source": [
    "b13_h1_h2 = (5120,20480)\n",
    "b30_h1_h2 = (7168,28672)"
   ]
  },
  {
   "cell_type": "code",
   "execution_count": 5,
   "id": "50e95d24-d508-4fa6-924f-9162c1e45fa5",
   "metadata": {},
   "outputs": [],
   "source": [
    "device_name = 'Tesla_V100-SXM2-32GB'\n",
    "shard = 2\n",
    "# prefill\n",
    "h1, h2 = b30_h1_h2\n",
    "b = 8\n"
   ]
  },
  {
   "cell_type": "code",
   "execution_count": 6,
   "id": "5ed44b4a-195a-488b-8301-e75e46b8cbb6",
   "metadata": {},
   "outputs": [
    {
     "name": "stdout",
     "output_type": "stream",
     "text": [
      "77.80665159225464 1130.7311415672302 14.53257682251668\n",
      "3.176513314247132 23.1606662273407 7.291222776703528\n"
     ]
    }
   ],
   "source": [
    "# graph left\n",
    "bit = 16\n",
    "s = 512\n",
    "i = 0\n",
    "# first bar\n",
    "device_name = 'Tesla_V100-SXM2-32GB'\n",
    "v100_prefill = lat_cost_model.fetch_lat(device_name, shard, b, s, i, h1, h2, bit)\n",
    "device_name = 'Tesla_P100-PCIE-12GB'\n",
    "p100_prefill = lat_cost_model.fetch_lat(device_name, shard, b, s, i, h1, h2, bit)\n",
    "print(v100_prefill, p100_prefill, p100_prefill / v100_prefill) \n",
    "# second bar\n",
    "s = 1\n",
    "i = 512\n",
    "device_name = 'Tesla_V100-SXM2-32GB'\n",
    "v100_decode = lat_cost_model.fetch_lat(device_name, shard, b, s, i, h1, h2, bit)\n",
    "device_name = 'Tesla_P100-PCIE-12GB'\n",
    "p100_decode = lat_cost_model.fetch_lat(device_name, shard, b, s, i, h1, h2, bit)\n",
    "print(v100_decode, p100_decode, p100_decode / v100_decode) "
   ]
  },
  {
   "cell_type": "code",
   "execution_count": 7,
   "id": "d0d999d7-8e64-4d8a-9ffb-2b189dd85f19",
   "metadata": {},
   "outputs": [
    {
     "name": "stdout",
     "output_type": "stream",
     "text": [
      "2286.132538318634 6756.0830950737 2.9552455869608285\n",
      "5.917119979858398 16.01364016532898 2.7063233836458727\n"
     ]
    }
   ],
   "source": [
    "### graph right\n",
    "bit = 4\n",
    "s = 512\n",
    "i = 0\n",
    "# first bar\n",
    "device_name = 'Tesla_V100-SXM2-32GB'\n",
    "v100_prefill = lat_cost_model.fetch_lat(device_name, shard, b, s, i, h1, h2, bit)\n",
    "device_name = 'Tesla_P100-PCIE-12GB'\n",
    "p100_prefill = lat_cost_model.fetch_lat(device_name, shard, b, s, i, h1, h2, bit)\n",
    "print(v100_prefill, p100_prefill, p100_prefill / v100_prefill) \n",
    "# second bar\n",
    "s = 1\n",
    "i = 512\n",
    "device_name = 'Tesla_V100-SXM2-32GB'\n",
    "v100_decode = lat_cost_model.fetch_lat(device_name, shard, b, s, i, h1, h2, bit)\n",
    "device_name = 'Tesla_P100-PCIE-12GB'\n",
    "p100_decode = lat_cost_model.fetch_lat(device_name, shard, b, s, i, h1, h2, bit)\n",
    "print(v100_decode, p100_decode, p100_decode / v100_decode) "
   ]
  }
 ],
 "metadata": {
  "kernelspec": {
   "display_name": "Python 3 (ipykernel)",
   "language": "python",
   "name": "python3"
  },
  "language_info": {
   "codemirror_mode": {
    "name": "ipython",
    "version": 3
   },
   "file_extension": ".py",
   "mimetype": "text/x-python",
   "name": "python",
   "nbconvert_exporter": "python",
   "pygments_lexer": "ipython3",
   "version": "3.10.9"
  }
 },
 "nbformat": 4,
 "nbformat_minor": 5
}
